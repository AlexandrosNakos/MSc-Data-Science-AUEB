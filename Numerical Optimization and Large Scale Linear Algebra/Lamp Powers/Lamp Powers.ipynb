{
 "cells": [
  {
   "cell_type": "markdown",
   "id": "28045271",
   "metadata": {},
   "source": [
    "# Lamp Powers via Least Squares\n",
    "\n",
    "> *Numerical Optimization and Large Scale Linear Algebra*  \n",
    "> *MSc in Data Science, Department of Informatics*  \n",
    "> *Athens University of Economics and Business*\n",
    "\n",
    "---\n",
    "\n",
    "A set of $n$ lamps illuminates an area that we divide into $m$ regions (pixels). We let $l_{i}$ denote the lighting level in region $i$, so the $m$-vector $l$ gives the illumination levels across all regions. We let $p_{i}$ denote the power at which lamp $i$ operates, so the $n$-vector $p$ gives the set of lamp powers. The vector of illumination levels is a linear function of the lamp powers, so we have $l=Ap$ for some $m \\times n$ matrix $A$. The $j$th column of $A$ gives the illumination pattern for lamp $j$, i.e., the illumination when lamp $j$ has power $1$ and all other lamps are off. We will assume that $A$ has linearly independent columns (and therefore is tall). The $i$th row of $A$ gives the sensitivity of pixel $i$ to the $n$ lamp powers. Your mission is to find lamp powers that result in a desired illumination pattern $l^{des}$, such as $l^{des}=a·1$, ($1$ the vector with all ones) which is uniform illumination with value across the area. In other words, we seek $p$ so that $Ap≈l^{des}$. We can use least squares to find $\\hat{p}$ that minimizes the sum square deviation from the desired illumination, $\\|Ap-l^{des}\\|_{2}^{2}$. As an example use $n=10$ lamps, the area being an $25\\times25$ grid with $m=625$ pixels, each $1m^{2}$. The $(x,y)$ positions of lamps and their heigh above floor are:\n",
    "\n",
    "<p style='text-align: center;'>$\\{(4.1, 20.4, 4), (14.1, 21.3, 3.5), (22.6, 17.1, 6), (5.5, 12.3, 4), (12.2, 9.7, 4)\\}$</p>\n",
    "<p style='text-align: center;'>$\\{(15.3, 13.8, 6), (21.3, 10.5, 5.5), (3.9, 3.3, 5), (13.1, 4.3, 5), (20.3, 4.2, 4.5)\\}$</p>\n",
    "\n",
    "The illumination decays with an inverse square law, so $A_{ij}$ proportional to $d^{-2}_{ij}$, where $d_{ij}$ is the $(3-D)$ distance between the center of the pixel and the lamp position. The matrix $A$ is scaled so that when all lamps have power one, the average illumination level is one. The desired illumination pattern is $1$, i.e., uniform with value $1$.\n",
    "\n",
    "*Question 1*\n",
    "<br>Create two graphs to show the illumination of the two patterns.<br> The first with all lamps set to $1$ and the other that minimize the sum square deviation with a desired uniform illumination.\n",
    "\n",
    "*Question 2*\n",
    "<br>What are the RMS errors in both cases?\n",
    "\n",
    "*Question 3*\n",
    "<br>Create the histogram of patch illumination values for all lamp powers one, and for lamp powers found by LS."
   ]
  },
  {
   "cell_type": "markdown",
   "id": "b35a7b4a",
   "metadata": {},
   "source": [
    "## Libraries"
   ]
  },
  {
   "cell_type": "code",
   "execution_count": 1,
   "id": "d5240079",
   "metadata": {},
   "outputs": [],
   "source": [
    "import seaborn as sns\n",
    "import matplotlib.pyplot as plt\n",
    "plt.style.use('ggplot')\n",
    "import pandas as pd\n",
    "import numpy as np\n",
    "from sklearn.metrics import confusion_matrix\n",
    "from sklearn.metrics import accuracy_score, mean_squared_error\n",
    "import math\n",
    "%matplotlib inline"
   ]
  },
  {
   "cell_type": "markdown",
   "id": "7ea5e89a",
   "metadata": {},
   "source": [
    "## First Case: Lamps Have Power Equal to 1\n",
    "\n",
    "### *Pixel Centroids* \n",
    "\n",
    "- Initially, we are required to compute the coordinates of the center for each pixel.\n",
    "- As all the pixels are situated on the ground, their corresponding heights can be considered as zero.\n",
    "- The total area comprises a grid of dimensions $25\\times25$, constituting a total of $625$ pixels, with each pixel covering an area of $1m^{2}$.\n",
    "- Consequently, the centers will be positioned at half of the pixel dimensions, specifically $0.5m\\times0.5m$.\n",
    "##### *Calculate the center of each pixel*"
   ]
  },
  {
   "cell_type": "code",
   "execution_count": 2,
   "id": "19b23194",
   "metadata": {},
   "outputs": [],
   "source": [
    "def get_centroids(length, width, dim):\n",
    "    \n",
    "    #list that contains the pixel centroids\n",
    "    pixels = []\n",
    "\n",
    "    #horizontal\n",
    "    for i in range(length):\n",
    "        pixels.append([])\n",
    "        #vertical\n",
    "        for j in range(width):\n",
    "            pixels[i].append((i + dim, j + dim, 0))\n",
    "            \n",
    "    return pixels\n",
    "\n",
    "pixels = get_centroids(25, 25, 0.5)"
   ]
  },
  {
   "cell_type": "markdown",
   "id": "525f4a06",
   "metadata": {},
   "source": [
    "### *A Matrix* \n",
    "\n",
    "- The $j$th column of $A$ gives the illumination pattern for lamp $j$, i.e., the illumination when lamp $j$ has power $1$ and all other lamps are off\n",
    "- We will assume that $A$ has linearly independent columns (and therefore is tall)\n",
    "- The $i$th row of $A$ gives the sensitivity of pixel $i$ to the $n$ lamp powers\n",
    "- Therefore, matrix A will end up with a shape $625 \\times 10$\n",
    "- The illumination decays with an inverse square law, so $A_{ij}$ is proportional to $d^{-2}_{ij}$, the $(3D)$ distance between the center of the pixel and the lamp position\n",
    "\n",
    "##### *List that contains the lamp coordinades*"
   ]
  },
  {
   "cell_type": "code",
   "execution_count": 3,
   "id": "25c284b5",
   "metadata": {},
   "outputs": [
    {
     "name": "stdout",
     "output_type": "stream",
     "text": [
      "[[4.1, 20.4, 4], [14.1, 21.3, 3.5], [22.6, 17.1, 6], [5.5, 12.3, 4], [12.2, 9.7, 4], [15.3, 13.8, 6], [21.3, 10.5, 5.5], [3.9, 3.3, 5], [13.1, 4.3, 5], [20.3, 4.2, 4.5]]\n"
     ]
    }
   ],
   "source": [
    "lamps = [[4.1, 20.4, 4],[14.1, 21.3, 3.5],[22.6, 17.1, 6],[5.5, 12.3, 4],[12.2, 9.7, 4],[15.3, 13.8, 6],\\\n",
    "                          [21.3, 10.5, 5.5],[3.9, 3.3, 5],[13.1, 4.3, 5],[20.3, 4.2, 4.5]]\n",
    "print(lamps)"
   ]
  },
  {
   "cell_type": "markdown",
   "id": "15a2fd6b",
   "metadata": {},
   "source": [
    "##### *Construct A Matrix*"
   ]
  },
  {
   "cell_type": "code",
   "execution_count": 4,
   "id": "be92b370",
   "metadata": {},
   "outputs": [
    {
     "name": "stdout",
     "output_type": "stream",
     "text": [
      "(625, 10)\n"
     ]
    }
   ],
   "source": [
    "def get_A(pixels,lamps):\n",
    "    \n",
    "    A = [] \n",
    "\n",
    "    #rows\n",
    "    for row in pixels:\n",
    "        #pixels in row\n",
    "        for pixel in row:       \n",
    "            temp = []     \n",
    "            #lamps\n",
    "            for lamp in lamps:\n",
    "                d = (np.linalg.norm(np.asarray(pixel) - np.asarray(lamp)))**-2\n",
    "                temp.append(d)\n",
    "            \n",
    "            A.append(temp)\n",
    "    \n",
    "    return A\n",
    "\n",
    "A = get_A(pixels,lamps)\n",
    "print(np.shape(A))"
   ]
  },
  {
   "cell_type": "markdown",
   "id": "661e388e",
   "metadata": {},
   "source": [
    "### *Initial Lamp Powers*\n",
    "\n",
    "- We let $p_{i}$ denote the power at which lamp $i$ operates, so the $n$-vector $p$ gives the set of lamp powers\n",
    "- We let $l_{i}$ denote the lighting level in region $i$, so the $m$-vector $l$ gives the illumination levels across all regions\n",
    "- The vector of illumination levels is a linear function of the lamp powers, so we have $l=Ap$ for some $m\\times{n}$ matrix $A$\n",
    "\n",
    "##### *Initialize the power of each lamp and calculate the average illumination level when all lamps have power equal to one*"
   ]
  },
  {
   "cell_type": "code",
   "execution_count": 5,
   "id": "960f303c",
   "metadata": {},
   "outputs": [
    {
     "name": "stdout",
     "output_type": "stream",
     "text": [
      "Average Illumination Level (power = 1):  0.0959608009808917\n"
     ]
    }
   ],
   "source": [
    "#lamp powers\n",
    "P_one = np.ones((10,))\n",
    "\n",
    "#illumination levels of each pixel\n",
    "L = np.dot(A,P_one)\n",
    "\n",
    "print('Average Illumination Level (power = 1): ', np.mean(L))"
   ]
  },
  {
   "cell_type": "markdown",
   "id": "10e9c173",
   "metadata": {},
   "source": [
    "### *Scaled A Matrix*\n",
    "\n",
    "- The matrix $A$ is scaled so that when all lamps have power one, the average illumination level is one.\n",
    "\n",
    "##### *scale matrix A for it to have an average illumination level of one*"
   ]
  },
  {
   "cell_type": "code",
   "execution_count": 6,
   "id": "667c6530",
   "metadata": {},
   "outputs": [
    {
     "name": "stdout",
     "output_type": "stream",
     "text": [
      "Average Illumination Level (power = 1, A is scaled):  1.0000000000000002\n"
     ]
    }
   ],
   "source": [
    "#define incement for scaling\n",
    "increment = (1 - np.mean(L)) / np.mean(L)\n",
    "increment\n",
    "\n",
    "#scaled A Matrix\n",
    "Scaled_A = np.asarray(A) + (np.asarray(A) * increment)\n",
    "\n",
    "#illumination levels for scaled A\n",
    "L_Scaled = np.dot(Scaled_A,P_one)\n",
    "\n",
    "print('Average Illumination Level (power = 1, A is scaled): ', np.mean(L_Scaled))"
   ]
  },
  {
   "cell_type": "markdown",
   "id": "9b53e661",
   "metadata": {},
   "source": [
    "##### *RMSE*"
   ]
  },
  {
   "cell_type": "code",
   "execution_count": 7,
   "id": "5eb9df0e",
   "metadata": {},
   "outputs": [
    {
     "name": "stdout",
     "output_type": "stream",
     "text": [
      "RMS Error for Lamp power equal to one: 0.24174\n"
     ]
    }
   ],
   "source": [
    "rms_one = math.sqrt(mean_squared_error(np.ones(625),L_Scaled))\n",
    "print('RMS Error for Lamp power equal to one: {:.5f}'.format(rms_one))"
   ]
  },
  {
   "cell_type": "markdown",
   "id": "0d95e4e9",
   "metadata": {},
   "source": [
    "#### *Illumination Pattern* "
   ]
  },
  {
   "cell_type": "code",
   "execution_count": 8,
   "id": "4993bdce",
   "metadata": {},
   "outputs": [
    {
     "data": {
      "image/png": "[encoded data removed]",
      "text/plain": [
       "<Figure size 864x576 with 2 Axes>"
      ]
     },
     "metadata": {
      "needs_background": "light"
     },
     "output_type": "display_data"
    }
   ],
   "source": [
    "region = np.reshape(L,(25,25))\n",
    "\n",
    "plt.figure(figsize=(12,8))\n",
    "ax = sns.heatmap(region, cmap='Spectral_r')\n",
    "ax.invert_yaxis()\n",
    "\n",
    "plt.scatter(np.asarray(lamps)[:,0], np.asarray(lamps)[:,1], s=50, c = 'black')\n",
    "plt.xticks([])\n",
    "plt.yticks([])\n",
    "plt.show()"
   ]
  },
  {
   "cell_type": "markdown",
   "id": "3c4c6c40",
   "metadata": {},
   "source": [
    "## Case 2: Lamp Powers - Least Squares \n",
    "\n",
    "### *Lamp Powers Estimates* \n",
    "\n",
    "- We need to find lamp powers that result in a desired illumination pattern $l^{des}$, such as $l^{des}=a·1$, ($1$ the vector with all ones)\n",
    "- The desired illumination pattern is $1$, i.e., uniform with value $1$ across the area\n",
    "- In other words, we seek $p$ so that $Ap≈l^{des}$\n",
    "- We can use least squares to find $\\hat{p}$ that minimizes the sum square deviation from the desired illumination, $\\|Ap-l^{des}\\|_{2}^{2}$\n",
    "\n",
    "##### *Estimate the lamp powers to achieve uniform illumination pattern using Least Squares*"
   ]
  },
  {
   "cell_type": "code",
   "execution_count": 9,
   "id": "f395acc3",
   "metadata": {},
   "outputs": [
    {
     "name": "stdout",
     "output_type": "stream",
     "text": [
      "[1.46211018 0.78797433 2.96641047 0.74358042 0.08317333 0.21263945\n",
      " 0.21218408 2.05114815 0.90760315 1.47222464]\n"
     ]
    }
   ],
   "source": [
    "#all regions should have the same illumination level\n",
    "L_des = np.ones((625,))\n",
    "\n",
    "#use of the QR Factorization method to solve the LS problem\n",
    "q, r = np.linalg.qr(Scaled_A)\n",
    "p = np.dot(q.T, L_des)\n",
    "lamp_powers = np.dot(np.linalg.inv(r), p)\n",
    "print(lamp_powers)"
   ]
  },
  {
   "cell_type": "markdown",
   "id": "5a1e75ea",
   "metadata": {},
   "source": [
    "#### *Illumination Levels* "
   ]
  },
  {
   "cell_type": "code",
   "execution_count": 10,
   "id": "f803891b",
   "metadata": {},
   "outputs": [
    {
     "name": "stdout",
     "output_type": "stream",
     "text": [
      "Average Illumination Level (power from LS):  0.9802905127483478\n"
     ]
    }
   ],
   "source": [
    "#illumination levels of each pixel\n",
    "L_LS = np.dot(Scaled_A,lamp_powers)\n",
    "\n",
    "print('Average Illumination Level (power from LS): ', np.mean(L_LS))"
   ]
  },
  {
   "cell_type": "markdown",
   "id": "eb940e70",
   "metadata": {},
   "source": [
    "##### *RMSE*"
   ]
  },
  {
   "cell_type": "code",
   "execution_count": 11,
   "id": "c1115eb8",
   "metadata": {},
   "outputs": [
    {
     "name": "stdout",
     "output_type": "stream",
     "text": [
      "RMS Error for Optimal Lamp Power: 0.14039\n"
     ]
    }
   ],
   "source": [
    "rms_ls = math.sqrt(mean_squared_error(L_des,L_LS))\n",
    "print('RMS Error for Optimal Lamp Power: {:.5f}'.format(rms_ls))"
   ]
  },
  {
   "cell_type": "markdown",
   "id": "a75d6ee9",
   "metadata": {},
   "source": [
    "#### *Illumination Pattern* "
   ]
  },
  {
   "cell_type": "code",
   "execution_count": 12,
   "id": "6ec2970d",
   "metadata": {},
   "outputs": [
    {
     "data": {
      "image/png": "[encoded data removed]",
      "text/plain": [
       "<Figure size 864x576 with 2 Axes>"
      ]
     },
     "metadata": {
      "needs_background": "light"
     },
     "output_type": "display_data"
    }
   ],
   "source": [
    "region_LS = np.reshape(L_LS,(25,25))\n",
    "\n",
    "plt.figure(figsize=(12,8))\n",
    "ax = sns.heatmap(region_LS, cmap='Spectral_r')\n",
    "ax.invert_yaxis()\n",
    "\n",
    "plt.scatter(np.asarray(lamps)[:,0], np.asarray(lamps)[:,1], s=50, c = 'black')\n",
    "plt.xticks([])\n",
    "plt.yticks([])\n",
    "plt.show()"
   ]
  },
  {
   "cell_type": "markdown",
   "id": "00c82139",
   "metadata": {},
   "source": [
    "- As we can see the resulting illumination pattern of the region is now closer to uniform."
   ]
  },
  {
   "cell_type": "markdown",
   "id": "7abedb13",
   "metadata": {},
   "source": [
    "## Histograms\n",
    "\n",
    "##### *Histogram of patch illumination values for all lamp powers equal to one and for lamp powers found by LS*"
   ]
  },
  {
   "cell_type": "code",
   "execution_count": 13,
   "id": "ee2822fd",
   "metadata": {},
   "outputs": [
    {
     "data": {
      "image/png": "[encoded data removed]",
      "text/plain": [
       "<Figure size 864x432 with 2 Axes>"
      ]
     },
     "metadata": {
      "needs_background": "light"
     },
     "output_type": "display_data"
    }
   ],
   "source": [
    "fig, ax = plt.subplots(1,2,figsize=(12,6))\n",
    "\n",
    "# plot for lamp powers 1\n",
    "sns.histplot(L, bins=20, ax=ax[0])\n",
    "ax[0].set_xlabel('Intensity')\n",
    "ax[0].set_ylabel('Number of pixels')\n",
    "ax[0].set_ylim(0,120)\n",
    "ax[0].set_title('Lamp powers equal to one')\n",
    "\n",
    "# plot for lamp powers found by LS\n",
    "sns.histplot(L_LS, bins=20, ax=ax[1])\n",
    "ax[1].set_xlabel('Intensity')\n",
    "ax[1].set_ylabel('Number of pixels')\n",
    "ax[1].set_title('Lamp powers found by LS')\n",
    "plt.tight_layout(pad=3)\n",
    "plt.show()"
   ]
  }
 ],
 "metadata": {
  "kernelspec": {
   "display_name": "Python 3",
   "language": "python",
   "name": "python3"
  },
  "language_info": {
   "codemirror_mode": {
    "name": "ipython",
    "version": 3
   },
   "file_extension": ".py",
   "mimetype": "text/x-python",
   "name": "python",
   "nbconvert_exporter": "python",
   "pygments_lexer": "ipython3",
   "version": "3.8.8"
  }
 },
 "nbformat": 4,
 "nbformat_minor": 5
}
